{
 "cells": [
  {
   "cell_type": "code",
   "execution_count": 43,
   "metadata": {
    "collapsed": true
   },
   "outputs": [],
   "source": [
    "%matplotlib inline\n",
    "import sklearn.linear_model\n",
    "import pandas as pd\n",
    "import matplotlib.pyplot as plt"
   ]
  },
  {
   "cell_type": "code",
   "execution_count": 44,
   "metadata": {
    "collapsed": false
   },
   "outputs": [],
   "source": [
    "trains = pd.read_csv('../data/sydtrains.csv', thousands=',', index_col='STATION' )\n",
    "trains2014 = trains[trains.YEAR == 2014]"
   ]
  },
  {
   "cell_type": "code",
   "execution_count": 45,
   "metadata": {
    "collapsed": true
   },
   "outputs": [],
   "source": [
    "scatter_data_in  = trains2014.loc[:, [\"IN_1500_1830\", \"IN_1830_0200\", \"OUT_0600_0930\"]]"
   ]
  },
  {
   "cell_type": "code",
   "execution_count": 46,
   "metadata": {
    "collapsed": false
   },
   "outputs": [
    {
     "data": {
      "text/plain": [
       "array([[<matplotlib.axes._subplots.AxesSubplot object at 0x7f77a9be83d0>,\n",
       "        <matplotlib.axes._subplots.AxesSubplot object at 0x7f77a9afde10>,\n",
       "        <matplotlib.axes._subplots.AxesSubplot object at 0x7f77a9a8e450>],\n",
       "       [<matplotlib.axes._subplots.AxesSubplot object at 0x7f77a99f0490>,\n",
       "        <matplotlib.axes._subplots.AxesSubplot object at 0x7f77a9974410>,\n",
       "        <matplotlib.axes._subplots.AxesSubplot object at 0x7f77a995a0d0>],\n",
       "       [<matplotlib.axes._subplots.AxesSubplot object at 0x7f77a98da050>,\n",
       "        <matplotlib.axes._subplots.AxesSubplot object at 0x7f77a9850e90>,\n",
       "        <matplotlib.axes._subplots.AxesSubplot object at 0x7f77a97cc0d0>]], dtype=object)"
      ]
     },
     "execution_count": 46,
     "metadata": {},
     "output_type": "execute_result"
    },
    {
     "data": {
      "image/png": "[encoded data removed]",
      "text/plain": [
       "<matplotlib.figure.Figure at 0x7f77a9c9bdd0>"
      ]
     },
     "metadata": {},
     "output_type": "display_data"
    }
   ],
   "source": [
    "pd.scatter_matrix(scatter_data_in)"
   ]
  },
  {
   "cell_type": "code",
   "execution_count": 47,
   "metadata": {
    "collapsed": true
   },
   "outputs": [],
   "source": [
    "people_in_the_am  = trains2014.loc[:, [\"OUT_0600_0930\", \"OUT_0930_1500\"]]"
   ]
  },
  {
   "cell_type": "code",
   "execution_count": 48,
   "metadata": {
    "collapsed": true
   },
   "outputs": [],
   "source": [
    "people_in_the_pm = trains2014.IN_1500_1830"
   ]
  },
  {
   "cell_type": "code",
   "execution_count": 49,
   "metadata": {
    "collapsed": true
   },
   "outputs": [],
   "source": [
    "regressor = sklearn.linear_model.RANSACRegressor(max_trials=10000)"
   ]
  },
  {
   "cell_type": "code",
   "execution_count": 50,
   "metadata": {
    "collapsed": false
   },
   "outputs": [
    {
     "data": {
      "text/plain": [
       "RANSACRegressor(base_estimator=None, is_data_valid=None, is_model_valid=None,\n",
       "        max_trials=10000, min_samples=None, random_state=None,\n",
       "        residual_metric=None, residual_threshold=None, stop_n_inliers=inf,\n",
       "        stop_probability=0.99, stop_score=inf)"
      ]
     },
     "execution_count": 50,
     "metadata": {},
     "output_type": "execute_result"
    }
   ],
   "source": [
    "regressor.fit(people_in_the_am, people_in_the_pm)"
   ]
  },
  {
   "cell_type": "raw",
   "metadata": {},
   "source": []
  },
  {
   "cell_type": "code",
   "execution_count": 51,
   "metadata": {
    "collapsed": false
   },
   "outputs": [
    {
     "data": {
      "text/plain": [
       "array([  5.03621394e+04,   4.85005093e+04,   3.99367994e+04,\n",
       "         1.51581028e+04,   1.86475338e+04,   1.29912345e+04,\n",
       "         9.37495863e+03,   5.81975384e+03,   5.27108285e+03,\n",
       "         1.06368538e+04,   1.40790277e+04,   3.73181466e+03,\n",
       "         9.29035022e+03,   4.45094983e+03,   4.15677853e+03,\n",
       "         4.51031271e+03,   3.00610969e+03,   2.71060515e+03,\n",
       "         3.60480570e+03,   2.36066187e+03,   2.81154051e+03,\n",
       "         6.55547115e+03,   2.05979055e+03,   4.53124086e+03,\n",
       "         6.11383403e+03,   1.59890481e+03,   2.13871448e+03,\n",
       "         2.68567207e+03,   2.95840482e+03,   1.97521076e+03,\n",
       "         2.14703679e+03,   2.85280054e+03,   2.06090244e+03,\n",
       "         1.28901331e+03,   2.29018524e+03,   3.60128253e+03,\n",
       "         1.44819964e+03,   2.43806510e+03,   1.75526584e+03,\n",
       "         1.37105161e+03,   1.44203863e+03,   2.57193817e+03,\n",
       "         2.22853607e+03,   1.49971673e+03,   1.49457127e+03,\n",
       "         1.27478518e+03,   2.89444074e+03,   1.36308084e+03,\n",
       "         1.90101825e+03,   1.23165290e+03,   1.01987145e+03,\n",
       "         1.25429970e+03,   9.25255940e+02,   7.29512373e+02,\n",
       "         1.05665002e+03,   1.06884705e+03,   8.65989418e+02,\n",
       "         4.75931869e+02,   6.08057669e+02,   5.74200760e+02,\n",
       "         5.56001563e+02,   2.39210751e+03,   7.85760882e+02,\n",
       "         9.08072290e+02,   2.05112192e+03,   1.20224359e+03,\n",
       "         8.22000433e+02,   1.12769953e+03,   4.95242966e+02,\n",
       "         1.13729259e+03,   6.53793925e+02,   5.83062094e+02,\n",
       "         3.49269215e+02,   8.71770249e+02,   1.03244866e+03,\n",
       "         8.54524109e+02,   8.71452564e+02,   2.49349406e+02,\n",
       "         1.00214878e+03,   6.06247908e+02,   7.97799072e+02,\n",
       "         5.56160406e+02,   8.55636009e+02,   7.96687172e+02,\n",
       "         9.47806383e+02,   4.03072592e+02,   1.41364487e+03,\n",
       "         5.09726288e+02,   5.12171420e+02,   2.88351775e+02,\n",
       "         5.34086491e+02,   3.32023075e+02,   4.92003619e+02,\n",
       "         6.35435885e+02,   5.78393163e+02,   4.42869174e+02,\n",
       "         5.62894293e+02,   2.83682844e+02,   2.83682844e+02,\n",
       "         2.17937629e+02,   5.14712905e+02,   3.63276009e+02,\n",
       "         3.45076812e+02,   2.53541809e+02,   6.56176567e+02,\n",
       "         5.53238745e+02,   5.75471502e+02,   3.50222272e+02,\n",
       "         8.22000433e+02,   2.79490441e+02,   3.05597915e+02,\n",
       "         3.27989515e+02,   3.98721346e+02,   5.19381836e+02,\n",
       "         3.00452455e+02,   2.44362789e+02,   3.67150726e+02,\n",
       "         5.27290114e+02,   4.56081754e+02,   6.55541196e+02,\n",
       "         3.36533163e+02,   4.07106152e+02,   4.25781877e+02,\n",
       "         2.17619944e+02,   2.44362789e+02,   8.26987050e+02,\n",
       "         2.17619944e+02,   5.23891925e+02,   2.28228549e+02,\n",
       "         3.50539957e+02,   2.83841686e+02,   5.02833557e+02,\n",
       "         9.62607390e+02,   4.93750890e+02,   3.42790523e+02,\n",
       "         6.00563429e+02,   1.61053749e+02,   5.63847350e+02,\n",
       "         4.53954307e+02,   2.80284655e+02,   4.75869379e+02,\n",
       "         5.87986220e+02,   2.27275492e+02,   9.51496924e+01,\n",
       "         1.60736064e+02,   2.35501455e+02,   3.68421469e+02,\n",
       "         1.83127664e+02,   1.52510101e+02,   3.51810700e+02,\n",
       "         1.69915084e+02,   2.67548603e+02,   3.38756962e+02,\n",
       "         4.79426411e+02,   7.72681812e+01,   9.93420954e+01,\n",
       "         1.39297521e+02,   2.40329229e+02,   1.52668944e+02,\n",
       "         3.76329746e+02,   5.41455750e+02,   5.13195497e+01,\n",
       "         1.79094103e+02,   1.48317698e+02,   1.73948644e+02,\n",
       "         2.49508249e+02,   6.87245325e+01,   1.52827786e+02,\n",
       "         7.33056407e+00,   2.10823566e+02,   1.60330555e+01,\n",
       "         2.76727623e+02,   2.37089883e+02,   1.87637752e+02,\n",
       "         5.56707954e+01,  -1.37192737e+00,   1.08838801e+02,\n",
       "         2.94450291e+02,   1.03534498e+02,   1.61212592e+02,\n",
       "         1.13190046e+02,   8.20959553e+01,   1.62006806e+02,\n",
       "         2.05431440e+01,   1.18406526e+01,   8.66060438e+01,\n",
       "         3.77892841e+01,   8.20959553e+01,   2.05431440e+01,\n",
       "         1.70709298e+02,   2.05431440e+01,   8.62883582e+01,\n",
       "         9.09572895e+01,   3.81069697e+01,   1.16818098e+01,\n",
       "         5.10018641e+01,   8.70825722e+01,   3.81069697e+01,\n",
       "         6.04985695e+01,   7.37111494e+01,  -1.00744188e+01,\n",
       "         7.33934638e+01,   2.05431440e+01,   6.01808839e+01,\n",
       "         1.16818098e+01,   1.18406526e+01,   4.69683039e+01,\n",
       "         1.31230401e+02,   1.60330555e+01,  -1.53077016e+00,\n",
       "         7.82212379e+01,   5.13195497e+01,   4.66506183e+01,\n",
       "         3.79481269e+01,   3.82658125e+01,   3.81069697e+01,\n",
       "        -5.88201588e+00,   7.40288350e+01,   2.94044783e+01,\n",
       "        -1.37192737e+00,   1.04805241e+02,   2.05431440e+01,\n",
       "         3.39145668e+01,   1.18406526e+01,   2.52120753e+01,\n",
       "        -1.02332616e+01,  -1.89357530e+01,  -1.02332616e+01,\n",
       "        -2.32869988e+01,  -1.03921044e+01,   1.60330555e+01,\n",
       "         7.33056407e+00,  -1.45845073e+01,   2.95633210e+01,\n",
       "        -2.32869988e+01,  -2.34458416e+01,  -2.77970873e+01,\n",
       "        -2.34458416e+01,   7.64824965e+00,  -5.72317309e+00,\n",
       "        -1.89357530e+01,  -2.77970873e+01,  -1.89357530e+01,\n",
       "         2.52120753e+01,  -2.32869988e+01,   2.08608296e+01,\n",
       "        -3.21483330e+01,  -1.00744188e+01,   2.98810066e+01,\n",
       "        -1.89357530e+01,  -1.02332616e+01,  -1.89357530e+01,\n",
       "        -3.64995787e+01,  -5.72317309e+00,  -2.77970873e+01,\n",
       "        -2.77970873e+01,   1.21583382e+01,  -1.89357530e+01,\n",
       "        -1.45845073e+01,  -2.77970873e+01,  -1.89357530e+01,\n",
       "         3.29700393e+00,  -2.76382445e+01,  -2.77970873e+01,\n",
       "        -1.44256645e+01,  -2.32869988e+01,  -2.77970873e+01,\n",
       "        -2.32869988e+01,  -3.64995787e+01,  -1.87769103e+01,\n",
       "        -3.21483330e+01,  -3.64995787e+01,  -2.32869988e+01,\n",
       "        -3.21483330e+01,  -3.21483330e+01,  -3.64995787e+01,\n",
       "        -1.44256645e+01,  -3.64995787e+01,  -3.21483330e+01,\n",
       "        -2.76382445e+01,  -3.64995787e+01,  -3.64995787e+01,\n",
       "        -3.64995787e+01,  -3.64995787e+01,  -3.64995787e+01,\n",
       "        -3.64995787e+01,  -3.64995787e+01,  -3.21483330e+01,\n",
       "        -3.64995787e+01,  -3.64995787e+01,  -3.21483330e+01,\n",
       "        -3.64995787e+01,  -3.64995787e+01,  -3.64995787e+01,\n",
       "        -3.64995787e+01,  -3.64995787e+01,  -3.64995787e+01,\n",
       "        -3.64995787e+01,  -3.64995787e+01,  -3.64995787e+01,\n",
       "        -3.64995787e+01,  -3.64995787e+01,  -3.64995787e+01,\n",
       "        -3.64995787e+01,  -3.64995787e+01,  -3.64995787e+01,\n",
       "        -3.64995787e+01,  -3.64995787e+01])"
      ]
     },
     "execution_count": 51,
     "metadata": {},
     "output_type": "execute_result"
    }
   ],
   "source": [
    "predictions_for_pm = regressor.predict(people_in_the_am)\n",
    "predictions_for_pm"
   ]
  },
  {
   "cell_type": "code",
   "execution_count": 52,
   "metadata": {
    "collapsed": false
   },
   "outputs": [
    {
     "data": {
      "text/plain": [
       "<matplotlib.collections.PathCollection at 0x7f77a952e410>"
      ]
     },
     "execution_count": 52,
     "metadata": {},
     "output_type": "execute_result"
    },
    {
     "data": {
      "image/png": "[encoded data removed]",
      "text/plain": [
       "<matplotlib.figure.Figure at 0x7f77a95e5d50>"
      ]
     },
     "metadata": {},
     "output_type": "display_data"
    }
   ],
   "source": [
    "plt.scatter(trains2014.OUT_0600_0930, trains2014.IN_1500_1830)"
   ]
  },
  {
   "cell_type": "code",
   "execution_count": 53,
   "metadata": {
    "collapsed": false
   },
   "outputs": [
    {
     "data": {
      "text/plain": [
       "[<matplotlib.lines.Line2D at 0x7f77a9452bd0>]"
      ]
     },
     "execution_count": 53,
     "metadata": {},
     "output_type": "execute_result"
    },
    {
     "data": {
      "image/png": "[encoded data removed]",
      "text/plain": [
       "<matplotlib.figure.Figure at 0x7f77a9672510>"
      ]
     },
     "metadata": {},
     "output_type": "display_data"
    }
   ],
   "source": [
    "plt.plot(trains2014.OUT_0600_0930, predictions_for_pm, color='red')"
   ]
  },
  {
   "cell_type": "code",
   "execution_count": 54,
   "metadata": {
    "collapsed": false
   },
   "outputs": [
    {
     "data": {
      "text/plain": [
       "[<matplotlib.lines.Line2D at 0x7f77a9489710>]"
      ]
     },
     "execution_count": 54,
     "metadata": {},
     "output_type": "execute_result"
    },
    {
     "data": {
      "image/png": "[encoded data removed]",
      "text/plain": [
       "<matplotlib.figure.Figure at 0x7f77a9489190>"
      ]
     },
     "metadata": {},
     "output_type": "display_data"
    }
   ],
   "source": [
    "plt.scatter(trains2014.OUT_0600_0930 + trains2014.OUT_0930_1500, trains2014.IN_1500_1830)\n",
    "plt.plot(trains2014.OUT_0600_0930 + trains2014.OUT_0930_1500+ trains2014.OUT_0930_1500 , predictions_for_pm, color='red')"
   ]
  },
  {
   "cell_type": "code",
   "execution_count": 55,
   "metadata": {
    "collapsed": false
   },
   "outputs": [
    {
     "data": {
      "text/plain": [
       "LinearRegression(copy_X=True, fit_intercept=True, n_jobs=1, normalize=False)"
      ]
     },
     "execution_count": 55,
     "metadata": {},
     "output_type": "execute_result"
    }
   ],
   "source": [
    "regressor.estimator_"
   ]
  },
  {
   "cell_type": "code",
   "execution_count": 56,
   "metadata": {
    "collapsed": false
   },
   "outputs": [
    {
     "data": {
      "text/plain": [
       "array([ 0.88613342,  0.43512457])"
      ]
     },
     "execution_count": 56,
     "metadata": {},
     "output_type": "execute_result"
    }
   ],
   "source": [
    "regressor.estimator_.coef_ # for every person getting on the station 1.144 people get out"
   ]
  },
  {
   "cell_type": "code",
   "execution_count": 57,
   "metadata": {
    "collapsed": false
   },
   "outputs": [
    {
     "data": {
      "text/plain": [
       "-36.499578717033899"
      ]
     },
     "execution_count": 57,
     "metadata": {},
     "output_type": "execute_result"
    }
   ],
   "source": [
    "regressor.estimator_.intercept_"
   ]
  },
  {
   "cell_type": "code",
   "execution_count": null,
   "metadata": {
    "collapsed": true
   },
   "outputs": [],
   "source": []
  },
  {
   "cell_type": "code",
   "execution_count": null,
   "metadata": {
    "collapsed": true
   },
   "outputs": [],
   "source": []
  },
  {
   "cell_type": "code",
   "execution_count": null,
   "metadata": {
    "collapsed": true
   },
   "outputs": [],
   "source": []
  }
 ],
 "metadata": {
  "kernelspec": {
   "display_name": "Python 2",
   "language": "python",
   "name": "python2"
  },
  "language_info": {
   "codemirror_mode": {
    "name": "ipython",
    "version": 2
   },
   "file_extension": ".py",
   "mimetype": "text/x-python",
   "name": "python",
   "nbconvert_exporter": "python",
   "pygments_lexer": "ipython2",
   "version": "2.7.11"
  }
 },
 "nbformat": 4,
 "nbformat_minor": 0
}
