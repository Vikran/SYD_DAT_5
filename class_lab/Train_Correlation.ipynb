{
 "cells": [
  {
   "cell_type": "code",
   "execution_count": 1,
   "metadata": {
    "collapsed": true
   },
   "outputs": [],
   "source": [
    "%matplotlib inline\n",
    "import sklearn.linear_model\n",
    "import pandas as pd\n",
    "import matplotlib.pyplot as plt"
   ]
  },
  {
   "cell_type": "code",
   "execution_count": 2,
   "metadata": {
    "collapsed": false
   },
   "outputs": [],
   "source": [
    "trains = pd.read_csv('../data/sydtrains.csv', thousands=',', index_col='STATION' )\n",
    "trains2014 = trains[trains.YEAR == 2014]"
   ]
  },
  {
   "cell_type": "code",
   "execution_count": 3,
   "metadata": {
    "collapsed": true
   },
   "outputs": [],
   "source": [
    "scatter_data_in  = trains2014.loc[:, [\"IN_1500_1830\", \"IN_1830_0200\", \"OUT_0600_0930\"]]"
   ]
  },
  {
   "cell_type": "code",
   "execution_count": 4,
   "metadata": {
    "collapsed": false
   },
   "outputs": [
    {
     "data": {
      "text/plain": [
       "array([[<matplotlib.axes._subplots.AxesSubplot object at 0x7f805cc0b790>,\n",
       "        <matplotlib.axes._subplots.AxesSubplot object at 0x7f805a606390>,\n",
       "        <matplotlib.axes._subplots.AxesSubplot object at 0x7f805a574990>],\n",
       "       [<matplotlib.axes._subplots.AxesSubplot object at 0x7f805a4f6810>,\n",
       "        <matplotlib.axes._subplots.AxesSubplot object at 0x7f805a58dad0>,\n",
       "        <matplotlib.axes._subplots.AxesSubplot object at 0x7f805a3e8990>],\n",
       "       [<matplotlib.axes._subplots.AxesSubplot object at 0x7f805a36a810>,\n",
       "        <matplotlib.axes._subplots.AxesSubplot object at 0x7f805a3590d0>,\n",
       "        <matplotlib.axes._subplots.AxesSubplot object at 0x7f805a2de050>]], dtype=object)"
      ]
     },
     "execution_count": 4,
     "metadata": {},
     "output_type": "execute_result"
    },
    {
     "data": {
      "image/png": "[encoded data removed]",
      "text/plain": [
       "<matplotlib.figure.Figure at 0x7f808c37be50>"
      ]
     },
     "metadata": {},
     "output_type": "display_data"
    }
   ],
   "source": [
    "pd.scatter_matrix(scatter_data_in)"
   ]
  },
  {
   "cell_type": "code",
   "execution_count": 8,
   "metadata": {
    "collapsed": true
   },
   "outputs": [],
   "source": [
    "people_in_the_am  = trains2014.loc[:, [\"OUT_0600_0930\", \"OUT_0930_1500\"]]"
   ]
  },
  {
   "cell_type": "code",
   "execution_count": 9,
   "metadata": {
    "collapsed": true
   },
   "outputs": [],
   "source": [
    "people_in_the_pm = trains2014.IN_1500_1830"
   ]
  },
  {
   "cell_type": "code",
   "execution_count": 13,
   "metadata": {
    "collapsed": true
   },
   "outputs": [],
   "source": [
    "regressor = sklearn.linear_model.RANSACRegressor(max_trials=10000000)"
   ]
  },
  {
   "cell_type": "code",
   "execution_count": 15,
   "metadata": {
    "collapsed": false
   },
   "outputs": [
    {
     "data": {
      "text/plain": [
       "RANSACRegressor(base_estimator=None, is_data_valid=None, is_model_valid=None,\n",
       "        max_trials=10000000, min_samples=None, random_state=None,\n",
       "        residual_metric=None, residual_threshold=None, stop_n_inliers=inf,\n",
       "        stop_probability=0.99, stop_score=inf)"
      ]
     },
     "execution_count": 15,
     "metadata": {},
     "output_type": "execute_result"
    }
   ],
   "source": [
    "regressor.fit(people_in_the_am, people_in_the_pm)"
   ]
  },
  {
   "cell_type": "raw",
   "metadata": {},
   "source": []
  },
  {
   "cell_type": "code",
   "execution_count": 16,
   "metadata": {
    "collapsed": false
   },
   "outputs": [
    {
     "data": {
      "text/plain": [
       "array([  4.51671220e+04,   4.31976484e+04,   3.51233966e+04,\n",
       "         1.34937580e+04,   1.64292975e+04,   1.16851979e+04,\n",
       "         8.38427317e+03,   5.29550918e+03,   4.78600577e+03,\n",
       "         9.57170198e+03,   1.23645323e+04,   3.46911527e+03,\n",
       "         8.22245035e+03,   4.05025349e+03,   3.80822494e+03,\n",
       "         4.05879697e+03,   2.74425450e+03,   2.47970982e+03,\n",
       "         3.25752299e+03,   2.17691050e+03,   2.60414035e+03,\n",
       "         5.80715475e+03,   1.88362680e+03,   4.14644480e+03,\n",
       "         5.41584524e+03,   1.51677771e+03,   2.01862745e+03,\n",
       "         2.47734807e+03,   2.69592953e+03,   1.81331296e+03,\n",
       "         1.99897288e+03,   2.56910981e+03,   1.87691783e+03,\n",
       "         1.21679877e+03,   2.08262232e+03,   3.18709935e+03,\n",
       "         1.35648174e+03,   2.19884447e+03,   1.61238687e+03,\n",
       "         1.30244740e+03,   1.33253485e+03,   2.30789903e+03,\n",
       "         2.05731327e+03,   1.38180451e+03,   1.38229059e+03,\n",
       "         1.18040607e+03,   2.56234594e+03,   1.25885966e+03,\n",
       "         1.71088503e+03,   1.16561225e+03,   9.45990016e+02,\n",
       "         1.15120843e+03,   8.44547960e+02,   6.80959263e+02,\n",
       "         9.99120830e+02,   9.86647584e+02,   8.04862541e+02,\n",
       "         4.69059323e+02,   5.88656552e+02,   5.48457610e+02,\n",
       "         5.36025537e+02,   2.13997683e+03,   7.38854752e+02,\n",
       "         8.56548856e+02,   1.81368924e+03,   1.09857742e+03,\n",
       "         7.64677323e+02,   1.05939179e+03,   4.74782424e+02,\n",
       "         1.03206983e+03,   6.18299098e+02,   5.56111284e+02,\n",
       "         3.47059171e+02,   8.00542767e+02,   9.61783438e+02,\n",
       "         7.82360146e+02,   8.02459617e+02,   2.47061614e+02,\n",
       "         9.30682669e+02,   5.69015707e+02,   7.27339931e+02,\n",
       "         5.35067112e+02,   7.75651173e+02,   7.34048904e+02,\n",
       "         8.61286083e+02,   3.89147514e+02,   1.28993298e+03,\n",
       "         4.79074749e+02,   4.94881895e+02,   2.86774482e+02,\n",
       "         5.15453716e+02,   3.28876549e+02,   4.63767401e+02,\n",
       "         6.06825450e+02,   5.53722084e+02,   4.24068258e+02,\n",
       "         5.24996791e+02,   2.84385282e+02,   2.84385282e+02,\n",
       "         2.22669818e+02,   4.79547099e+02,   3.54226770e+02,\n",
       "         3.41794697e+02,   2.52326088e+02,   6.03922727e+02,\n",
       "         5.22135241e+02,   5.40790212e+02,   3.41308622e+02,\n",
       "         7.64677323e+02,   2.79120808e+02,   3.04957103e+02,\n",
       "         3.22653650e+02,   3.84841465e+02,   4.81936299e+02,\n",
       "         3.05443178e+02,   2.46589264e+02,   3.61408093e+02,\n",
       "         4.95340521e+02,   4.36027981e+02,   6.07756426e+02,\n",
       "         3.32224173e+02,   3.95370412e+02,   4.04927211e+02,\n",
       "         2.24586667e+02,   2.46589264e+02,   7.65149673e+02,\n",
       "         2.24586667e+02,   4.85283923e+02,   2.21697669e+02,\n",
       "         3.39391773e+02,   2.83426857e+02,   4.90103495e+02,\n",
       "         8.63661558e+02,   4.53224729e+02,   3.25029126e+02,\n",
       "         5.42193539e+02,   1.68608028e+02,   5.19246242e+02,\n",
       "         4.18303985e+02,   2.74328684e+02,   4.38875806e+02,\n",
       "         5.26400117e+02,   2.27448217e+02,   1.07850988e+02,\n",
       "         1.70524877e+02,   2.38935590e+02,   3.53740695e+02,\n",
       "         1.88221424e+02,   1.59037505e+02,   3.31724375e+02,\n",
       "         1.76261701e+02,   2.59493687e+02,   3.18806227e+02,\n",
       "         4.47973979e+02,   9.35020659e+01,   1.13115462e+02,\n",
       "         1.47077782e+02,   2.40366365e+02,   1.58079080e+02,\n",
       "         3.67144917e+02,   5.01549695e+02,   6.67073459e+01,\n",
       "         1.81998526e+02,   1.53773031e+02,   1.82484600e+02,\n",
       "         2.46103189e+02,   8.39315427e+01,   1.57120655e+02,\n",
       "         2.65221280e+01,   2.04473472e+02,   3.51342264e+01,\n",
       "         2.65230511e+02,   2.29351343e+02,   1.91569049e+02,\n",
       "         7.10133951e+01,   1.79100295e+01,   1.16935437e+02,\n",
       "         2.80537859e+02,   1.18379936e+02,   1.67649603e+02,\n",
       "         1.21241486e+02,   9.49328409e+01,   1.62857479e+02,\n",
       "         3.84818509e+01,   2.98697524e+01,   9.82804653e+01,\n",
       "         5.66644724e+01,   9.49328409e+01,   3.84818509e+01,\n",
       "         1.71469578e+02,   3.84818509e+01,   1.00197315e+02,\n",
       "         1.02586515e+02,   5.47476230e+01,   3.08281772e+01,\n",
       "         6.86241953e+01,   9.54051911e+01,   5.47476230e+01,\n",
       "         7.24441701e+01,   8.44038930e+01,   9.29793112e+00,\n",
       "         8.63207424e+01,   3.84818509e+01,   7.43610195e+01,\n",
       "         3.08281772e+01,   2.98697524e+01,   6.24012966e+01,\n",
       "         1.34631984e+02,   3.51342264e+01,   1.88684543e+01,\n",
       "         8.77515174e+01,   6.67073459e+01,   6.43181461e+01,\n",
       "         5.57060477e+01,   5.37891982e+01,   5.47476230e+01,\n",
       "         1.45624051e+01,   8.24870435e+01,   4.61355245e+01,\n",
       "         1.79100295e+01,   1.10712538e+02,   3.84818509e+01,\n",
       "         4.94831490e+01,   2.98697524e+01,   4.08710506e+01,\n",
       "         1.02563559e+01,   1.64425743e+00,   1.02563559e+01,\n",
       "        -2.66179178e+00,   1.12147806e+01,   3.51342264e+01,\n",
       "         2.65221280e+01,   5.95030664e+00,   4.51770998e+01,\n",
       "        -2.66179178e+00,  -1.70336704e+00,  -6.00941625e+00,\n",
       "        -1.70336704e+00,   2.46052785e+01,   1.36039803e+01,\n",
       "         1.64425743e+00,  -6.00941625e+00,   1.64425743e+00,\n",
       "         4.08710506e+01,  -2.66179178e+00,   3.65650014e+01,\n",
       "        -1.03154655e+01,   9.29793112e+00,   4.32602503e+01,\n",
       "         1.64425743e+00,   1.02563559e+01,   1.64425743e+00,\n",
       "        -1.46215147e+01,   1.36039803e+01,  -6.00941625e+00,\n",
       "        -6.00941625e+00,   2.79529030e+01,   1.64425743e+00,\n",
       "         5.95030664e+00,  -6.00941625e+00,   1.64425743e+00,\n",
       "         2.02992293e+01,  -6.96784099e+00,  -6.00941625e+00,\n",
       "         4.99188191e+00,  -2.66179178e+00,  -6.00941625e+00,\n",
       "        -2.66179178e+00,  -1.46215147e+01,   6.85832696e-01,\n",
       "        -1.03154655e+01,  -1.46215147e+01,  -2.66179178e+00,\n",
       "        -1.03154655e+01,  -1.03154655e+01,  -1.46215147e+01,\n",
       "         4.99188191e+00,  -1.46215147e+01,  -1.03154655e+01,\n",
       "        -6.96784099e+00,  -1.46215147e+01,  -1.46215147e+01,\n",
       "        -1.46215147e+01,  -1.46215147e+01,  -1.46215147e+01,\n",
       "        -1.46215147e+01,  -1.46215147e+01,  -1.03154655e+01,\n",
       "        -1.46215147e+01,  -1.46215147e+01,  -1.03154655e+01,\n",
       "        -1.46215147e+01,  -1.46215147e+01,  -1.46215147e+01,\n",
       "        -1.46215147e+01,  -1.46215147e+01,  -1.46215147e+01,\n",
       "        -1.46215147e+01,  -1.46215147e+01,  -1.46215147e+01,\n",
       "        -1.46215147e+01,  -1.46215147e+01,  -1.46215147e+01,\n",
       "        -1.46215147e+01,  -1.46215147e+01,  -1.46215147e+01,\n",
       "        -1.46215147e+01,  -1.46215147e+01])"
      ]
     },
     "execution_count": 16,
     "metadata": {},
     "output_type": "execute_result"
    }
   ],
   "source": [
    "predictions_for_pm = regressor.predict(people_in_the_am)\n",
    "predictions_for_pm"
   ]
  },
  {
   "cell_type": "code",
   "execution_count": 18,
   "metadata": {
    "collapsed": false
   },
   "outputs": [
    {
     "data": {
      "text/plain": [
       "<matplotlib.collections.PathCollection at 0x7f8059a4c310>"
      ]
     },
     "execution_count": 18,
     "metadata": {},
     "output_type": "execute_result"
    },
    {
     "data": {
      "image/png": "[encoded data removed]",
      "text/plain": [
       "<matplotlib.figure.Figure at 0x7f8059ae4810>"
      ]
     },
     "metadata": {},
     "output_type": "display_data"
    }
   ],
   "source": [
    "plt.scatter(trains2014.OUT_0600_0930, trains2014.IN_1500_1830)"
   ]
  },
  {
   "cell_type": "code",
   "execution_count": 19,
   "metadata": {
    "collapsed": false
   },
   "outputs": [
    {
     "data": {
      "text/plain": [
       "[<matplotlib.lines.Line2D at 0x7f80599cab10>]"
      ]
     },
     "execution_count": 19,
     "metadata": {},
     "output_type": "execute_result"
    },
    {
     "data": {
      "image/png": "[encoded data removed]",
      "text/plain": [
       "<matplotlib.figure.Figure at 0x7f8059a00990>"
      ]
     },
     "metadata": {},
     "output_type": "display_data"
    }
   ],
   "source": [
    "plt.plot(trains2014.OUT_0600_0930, predictions_for_pm, color='red')"
   ]
  },
  {
   "cell_type": "code",
   "execution_count": 21,
   "metadata": {
    "collapsed": false
   },
   "outputs": [
    {
     "data": {
      "text/plain": [
       "[<matplotlib.lines.Line2D at 0x7f80598cd4d0>]"
      ]
     },
     "execution_count": 21,
     "metadata": {},
     "output_type": "execute_result"
    },
    {
     "data": {
      "image/png": "[encoded data removed]",
      "text/plain": [
       "<matplotlib.figure.Figure at 0x7f805a31c190>"
      ]
     },
     "metadata": {},
     "output_type": "display_data"
    }
   ],
   "source": [
    "plt.scatter(trains2014.OUT_0600_0930 + trains2014.OUT_0930_1500, trains2014.IN_1500_1830)\n",
    "plt.plot(trains2014.OUT_0600_0930 + trains2014.OUT_0930_1500+ trains2014.OUT_0930_1500 , predictions_for_pm, color='red')"
   ]
  },
  {
   "cell_type": "code",
   "execution_count": 22,
   "metadata": {
    "collapsed": false
   },
   "outputs": [
    {
     "data": {
      "text/plain": [
       "LinearRegression(copy_X=True, fit_intercept=True, n_jobs=1, normalize=False)"
      ]
     },
     "execution_count": 22,
     "metadata": {},
     "output_type": "execute_result"
    }
   ],
   "source": [
    "regressor.estimator_"
   ]
  },
  {
   "cell_type": "code",
   "execution_count": 23,
   "metadata": {
    "collapsed": false
   },
   "outputs": [
    {
     "data": {
      "text/plain": [
       "array([ 0.76536737,  0.43060492])"
      ]
     },
     "execution_count": 23,
     "metadata": {},
     "output_type": "execute_result"
    }
   ],
   "source": [
    "regressor.estimator_.coef_ # for every person getting on the station 1.144 people get out"
   ]
  },
  {
   "cell_type": "code",
   "execution_count": 24,
   "metadata": {
    "collapsed": false
   },
   "outputs": [
    {
     "data": {
      "text/plain": [
       "-14.621514674009461"
      ]
     },
     "execution_count": 24,
     "metadata": {},
     "output_type": "execute_result"
    }
   ],
   "source": [
    "regressor.estimator_.intercept_"
   ]
  },
  {
   "cell_type": "code",
   "execution_count": null,
   "metadata": {
    "collapsed": true
   },
   "outputs": [],
   "source": []
  },
  {
   "cell_type": "code",
   "execution_count": null,
   "metadata": {
    "collapsed": true
   },
   "outputs": [],
   "source": []
  },
  {
   "cell_type": "code",
   "execution_count": null,
   "metadata": {
    "collapsed": true
   },
   "outputs": [],
   "source": []
  }
 ],
 "metadata": {
  "kernelspec": {
   "display_name": "Python 2",
   "language": "python",
   "name": "python2"
  },
  "language_info": {
   "codemirror_mode": {
    "name": "ipython",
    "version": 2
   },
   "file_extension": ".py",
   "mimetype": "text/x-python",
   "name": "python",
   "nbconvert_exporter": "python",
   "pygments_lexer": "ipython2",
   "version": "2.7.11"
  }
 },
 "nbformat": 4,
 "nbformat_minor": 0
}
