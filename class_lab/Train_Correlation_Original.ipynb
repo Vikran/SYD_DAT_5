{
 "cells": [
  {
   "cell_type": "code",
   "execution_count": 4,
   "metadata": {
    "collapsed": true
   },
   "outputs": [],
   "source": [
    "%matplotlib inline\n",
    "import sklearn.linear_model\n",
    "import pandas as pd\n",
    "import matplotlib.pyplot as plt"
   ]
  },
  {
   "cell_type": "code",
   "execution_count": 5,
   "metadata": {
    "collapsed": false
   },
   "outputs": [],
   "source": [
    "trains = pd.read_csv('../data/sydtrains.csv', thousands=',', index_col='STATION' )\n",
    "trains2014 = trains[trains.YEAR == 2014]"
   ]
  },
  {
   "cell_type": "code",
   "execution_count": 6,
   "metadata": {
    "collapsed": true
   },
   "outputs": [],
   "source": [
    "scatter_data_in  = trains2014.loc[:, [\"IN_1500_1830\", \"IN_1830_0200\", \"OUT_0600_0930\"]]"
   ]
  },
  {
   "cell_type": "code",
   "execution_count": 7,
   "metadata": {
    "collapsed": false
   },
   "outputs": [
    {
     "data": {
      "text/plain": [
       "array([[<matplotlib.axes._subplots.AxesSubplot object at 0x7f77acf90250>,\n",
       "        <matplotlib.axes._subplots.AxesSubplot object at 0x7f77aabe5a50>,\n",
       "        <matplotlib.axes._subplots.AxesSubplot object at 0x7f77aab689d0>],\n",
       "       [<matplotlib.axes._subplots.AxesSubplot object at 0x7f77aaad7190>,\n",
       "        <matplotlib.axes._subplots.AxesSubplot object at 0x7f77aaa58450>,\n",
       "        <matplotlib.axes._subplots.AxesSubplot object at 0x7f77aa9b1f50>],\n",
       "       [<matplotlib.axes._subplots.AxesSubplot object at 0x7f77aa93e410>,\n",
       "        <matplotlib.axes._subplots.AxesSubplot object at 0x7f77aa9ea890>,\n",
       "        <matplotlib.axes._subplots.AxesSubplot object at 0x7f77aa8a0f10>]], dtype=object)"
      ]
     },
     "execution_count": 7,
     "metadata": {},
     "output_type": "execute_result"
    },
    {
     "data": {
      "image/png": "[encoded data removed]",
      "text/plain": [
       "<matplotlib.figure.Figure at 0x7f77acf560d0>"
      ]
     },
     "metadata": {},
     "output_type": "display_data"
    }
   ],
   "source": [
    "pd.scatter_matrix(scatter_data_in)"
   ]
  },
  {
   "cell_type": "code",
   "execution_count": 8,
   "metadata": {
    "collapsed": true
   },
   "outputs": [],
   "source": [
    "people_in_the_am  = trains2014.loc[:, [\"OUT_0600_0930\"]]"
   ]
  },
  {
   "cell_type": "code",
   "execution_count": 9,
   "metadata": {
    "collapsed": true
   },
   "outputs": [],
   "source": [
    "people_in_the_pm = trains2014.IN_1500_1830"
   ]
  },
  {
   "cell_type": "code",
   "execution_count": 10,
   "metadata": {
    "collapsed": true
   },
   "outputs": [],
   "source": [
    "regressor = sklearn.linear_model.RANSACRegressor()"
   ]
  },
  {
   "cell_type": "code",
   "execution_count": 15,
   "metadata": {
    "collapsed": false
   },
   "outputs": [
    {
     "data": {
      "text/plain": [
       "RANSACRegressor(base_estimator=None, is_data_valid=None, is_model_valid=None,\n",
       "        max_trials=100, min_samples=None, random_state=None,\n",
       "        residual_metric=None, residual_threshold=None, stop_n_inliers=inf,\n",
       "        stop_probability=0.99, stop_score=inf)"
      ]
     },
     "execution_count": 15,
     "metadata": {},
     "output_type": "execute_result"
    }
   ],
   "source": [
    "regressor.fit(people_in_the_am, people_in_the_pm)"
   ]
  },
  {
   "cell_type": "raw",
   "metadata": {},
   "source": []
  },
  {
   "cell_type": "code",
   "execution_count": 16,
   "metadata": {
    "collapsed": false
   },
   "outputs": [
    {
     "data": {
      "text/plain": [
       "array([  4.81836945e+04,   4.94889698e+04,   4.53784975e+04,\n",
       "         1.57006586e+04,   2.10133582e+04,   1.22542738e+04,\n",
       "         9.40327769e+03,   4.99511104e+03,   4.65161753e+03,\n",
       "         1.00330158e+04,   1.63303967e+04,   2.53340758e+03,\n",
       "         1.02047625e+04,   3.87303225e+03,   3.36924178e+03,\n",
       "         4.38827251e+03,   2.60210628e+03,   2.31586169e+03,\n",
       "         3.41504091e+03,   1.86932013e+03,   2.06396645e+03,\n",
       "         7.21636904e+03,   1.82352100e+03,   3.70128550e+03,\n",
       "         6.74692791e+03,   9.07538319e+02,   1.23958204e+03,\n",
       "         2.08686602e+03,   2.61355606e+03,   1.68612360e+03,\n",
       "         1.52582663e+03,   2.84255173e+03,   1.90366949e+03,\n",
       "         8.38839618e+02,   2.12121537e+03,   4.10202792e+03,\n",
       "         1.02203615e+03,   2.43035953e+03,   1.51437685e+03,\n",
       "         7.93040484e+02,   1.20523269e+03,   2.67080498e+03,\n",
       "         1.75482230e+03,   1.28538117e+03,   1.22813226e+03,\n",
       "         1.06783529e+03,   3.33489243e+03,   1.15943356e+03,\n",
       "         1.98381797e+03,   7.81590700e+02,   8.84638752e+02,\n",
       "         1.15943356e+03,   9.64787236e+02,   6.55643081e+02,\n",
       "         7.12891999e+02,   9.64787236e+02,   7.70140917e+02,\n",
       "         2.54900658e+02,   3.69398493e+02,   4.38097194e+02,\n",
       "         3.80848277e+02,   2.56775693e+03,   6.32743514e+02,\n",
       "         6.67092865e+02,   2.45325909e+03,   1.17088334e+03,\n",
       "         7.35791566e+02,   8.15940051e+02,   3.92298060e+02,\n",
       "         1.19378291e+03,   5.29695463e+02,   4.49546978e+02,\n",
       "         2.20551308e+02,   8.73188968e+02,   8.50289401e+02,\n",
       "         8.84638752e+02,   8.50289401e+02,   2.32001091e+02,\n",
       "         8.61739185e+02,   5.52595030e+02,   8.73188968e+02,\n",
       "         3.92298060e+02,   9.64787236e+02,   7.93040484e+02,\n",
       "         1.02203615e+03,   3.35049143e+02,   1.35407988e+03,\n",
       "         4.95346112e+02,   3.57948710e+02,   2.20551308e+02,\n",
       "         3.69398493e+02,   2.32001091e+02,   4.72446545e+02,\n",
       "         4.60996761e+02,   4.26647411e+02,   3.80848277e+02,\n",
       "         5.64044813e+02,   1.97651740e+02,   1.97651740e+02,\n",
       "         1.63302390e+02,   5.41145246e+02,   2.89250009e+02,\n",
       "         2.32001091e+02,   2.20551308e+02,   7.01442215e+02,\n",
       "         4.95346112e+02,   5.29695463e+02,   2.89250009e+02,\n",
       "         7.35791566e+02,   2.09101524e+02,   2.09101524e+02,\n",
       "         2.54900658e+02,   3.35049143e+02,   5.64044813e+02,\n",
       "         1.51852606e+02,   1.86201957e+02,   2.54900658e+02,\n",
       "         5.06795896e+02,   3.92298060e+02,   6.55643081e+02,\n",
       "         2.43450875e+02,   3.12149576e+02,   4.03747844e+02,\n",
       "         1.40402823e+02,   1.86201957e+02,   7.81590700e+02,\n",
       "         1.40402823e+02,   5.75494597e+02,   2.77800225e+02,\n",
       "         3.12149576e+02,   2.09101524e+02,   3.12149576e+02,\n",
       "         1.14798377e+03,   5.98394164e+02,   3.80848277e+02,\n",
       "         7.70140917e+02,   1.40402823e+02,   6.32743514e+02,\n",
       "         5.52595030e+02,   2.66350442e+02,   5.64044813e+02,\n",
       "         8.04490267e+02,   2.09101524e+02,   9.46036888e+01,\n",
       "         1.17503256e+02,   1.74752173e+02,   3.46498926e+02,\n",
       "         1.63302390e+02,   1.51852606e+02,   4.03747844e+02,\n",
       "         1.51852606e+02,   2.89250009e+02,   4.03747844e+02,\n",
       "         5.06795896e+02,   6.02543382e+01,   8.31539053e+01,\n",
       "         1.40402823e+02,   2.09101524e+02,   1.63302390e+02,\n",
       "         2.89250009e+02,   5.86944380e+02,   7.17041218e+01,\n",
       "         1.86201957e+02,   1.63302390e+02,   1.28953039e+02,\n",
       "         2.43450875e+02,   7.17041218e+01,   1.74752173e+02,\n",
       "         3.73547712e+01,   2.77800225e+02,   3.73547712e+01,\n",
       "         3.23599359e+02,   2.89250009e+02,   1.74752173e+02,\n",
       "         7.17041218e+01,   3.73547712e+01,   1.40402823e+02,\n",
       "         3.46498926e+02,   7.17041218e+01,   1.51852606e+02,\n",
       "         1.40402823e+02,   9.46036888e+01,   2.09101524e+02,\n",
       "         4.88045547e+01,   4.88045547e+01,   1.06053472e+02,\n",
       "         3.73547712e+01,   9.46036888e+01,   4.88045547e+01,\n",
       "         2.09101524e+02,   4.88045547e+01,   8.31539053e+01,\n",
       "         1.06053472e+02,   6.02543382e+01,   3.73547712e+01,\n",
       "         4.88045547e+01,   1.40402823e+02,   6.02543382e+01,\n",
       "         1.06053472e+02,   1.17503256e+02,   3.73547712e+01,\n",
       "         9.46036888e+01,   4.88045547e+01,   8.31539053e+01,\n",
       "         3.73547712e+01,   4.88045547e+01,   7.17041218e+01,\n",
       "         1.86201957e+02,   3.73547712e+01,   2.59049877e+01,\n",
       "         1.28953039e+02,   7.17041218e+01,   4.88045547e+01,\n",
       "         4.88045547e+01,   7.17041218e+01,   6.02543382e+01,\n",
       "         2.59049877e+01,   1.40402823e+02,   6.02543382e+01,\n",
       "         3.73547712e+01,   1.63302390e+02,   4.88045547e+01,\n",
       "         7.17041218e+01,   4.88045547e+01,   7.17041218e+01,\n",
       "         2.59049877e+01,   2.59049877e+01,   2.59049877e+01,\n",
       "         2.59049877e+01,   1.44552042e+01,   3.73547712e+01,\n",
       "         3.73547712e+01,   2.59049877e+01,   7.17041218e+01,\n",
       "         2.59049877e+01,   1.44552042e+01,   1.44552042e+01,\n",
       "         1.44552042e+01,   6.02543382e+01,   3.73547712e+01,\n",
       "         2.59049877e+01,   1.44552042e+01,   2.59049877e+01,\n",
       "         7.17041218e+01,   2.59049877e+01,   7.17041218e+01,\n",
       "         1.44552042e+01,   3.73547712e+01,   9.46036888e+01,\n",
       "         2.59049877e+01,   2.59049877e+01,   2.59049877e+01,\n",
       "         1.44552042e+01,   3.73547712e+01,   1.44552042e+01,\n",
       "         1.44552042e+01,   7.17041218e+01,   2.59049877e+01,\n",
       "         2.59049877e+01,   1.44552042e+01,   2.59049877e+01,\n",
       "         6.02543382e+01,   2.59049877e+01,   1.44552042e+01,\n",
       "         3.73547712e+01,   2.59049877e+01,   1.44552042e+01,\n",
       "         2.59049877e+01,   1.44552042e+01,   3.73547712e+01,\n",
       "         1.44552042e+01,   1.44552042e+01,   2.59049877e+01,\n",
       "         1.44552042e+01,   1.44552042e+01,   1.44552042e+01,\n",
       "         3.73547712e+01,   1.44552042e+01,   1.44552042e+01,\n",
       "         2.59049877e+01,   1.44552042e+01,   1.44552042e+01,\n",
       "         1.44552042e+01,   1.44552042e+01,   1.44552042e+01,\n",
       "         1.44552042e+01,   1.44552042e+01,   1.44552042e+01,\n",
       "         1.44552042e+01,   1.44552042e+01,   1.44552042e+01,\n",
       "         1.44552042e+01,   1.44552042e+01,   1.44552042e+01,\n",
       "         1.44552042e+01,   1.44552042e+01,   1.44552042e+01,\n",
       "         1.44552042e+01,   1.44552042e+01,   1.44552042e+01,\n",
       "         1.44552042e+01,   1.44552042e+01,   1.44552042e+01,\n",
       "         1.44552042e+01,   1.44552042e+01,   1.44552042e+01,\n",
       "         1.44552042e+01,   1.44552042e+01])"
      ]
     },
     "execution_count": 16,
     "metadata": {},
     "output_type": "execute_result"
    }
   ],
   "source": [
    "predictions_for_pm = regressor.predict(people_in_the_am)\n",
    "predictions_for_pm"
   ]
  },
  {
   "cell_type": "code",
   "execution_count": 17,
   "metadata": {
    "collapsed": false
   },
   "outputs": [
    {
     "data": {
      "text/plain": [
       "<matplotlib.collections.PathCollection at 0x7f77aa4c1290>"
      ]
     },
     "execution_count": 17,
     "metadata": {},
     "output_type": "execute_result"
    },
    {
     "data": {
      "image/png": "[encoded data removed]",
      "text/plain": [
       "<matplotlib.figure.Figure at 0x7f77b4135f10>"
      ]
     },
     "metadata": {},
     "output_type": "display_data"
    }
   ],
   "source": [
    "plt.scatter(trains2014.OUT_0600_0930, trains2014.IN_1500_1830)"
   ]
  },
  {
   "cell_type": "code",
   "execution_count": 18,
   "metadata": {
    "collapsed": false
   },
   "outputs": [
    {
     "data": {
      "text/plain": [
       "[<matplotlib.lines.Line2D at 0x7f77aa483190>]"
      ]
     },
     "execution_count": 18,
     "metadata": {},
     "output_type": "execute_result"
    },
    {
     "data": {
      "image/png": "[encoded data removed]",
      "text/plain": [
       "<matplotlib.figure.Figure at 0x7f77aa4f6250>"
      ]
     },
     "metadata": {},
     "output_type": "display_data"
    }
   ],
   "source": [
    "plt.plot(trains2014.OUT_0600_0930, predictions_for_pm, color='red')"
   ]
  },
  {
   "cell_type": "code",
   "execution_count": 19,
   "metadata": {
    "collapsed": false
   },
   "outputs": [
    {
     "data": {
      "text/plain": [
       "[<matplotlib.lines.Line2D at 0x7f77aa5640d0>]"
      ]
     },
     "execution_count": 19,
     "metadata": {},
     "output_type": "execute_result"
    },
    {
     "data": {
      "image/png": "[encoded data removed]",
      "text/plain": [
       "<matplotlib.figure.Figure at 0x7f77aa564210>"
      ]
     },
     "metadata": {},
     "output_type": "display_data"
    }
   ],
   "source": [
    "plt.scatter(trains2014.OUT_0600_0930, trains2014.IN_1500_1830)\n",
    "plt.plot(trains2014.OUT_0600_0930, predictions_for_pm, color='red')"
   ]
  },
  {
   "cell_type": "code",
   "execution_count": 20,
   "metadata": {
    "collapsed": false
   },
   "outputs": [
    {
     "data": {
      "text/plain": [
       "LinearRegression(copy_X=True, fit_intercept=True, n_jobs=1, normalize=False)"
      ]
     },
     "execution_count": 20,
     "metadata": {},
     "output_type": "execute_result"
    }
   ],
   "source": [
    "regressor.estimator_"
   ]
  },
  {
   "cell_type": "code",
   "execution_count": 22,
   "metadata": {
    "collapsed": false
   },
   "outputs": [
    {
     "data": {
      "text/plain": [
       "array([ 1.14497835])"
      ]
     },
     "execution_count": 22,
     "metadata": {},
     "output_type": "execute_result"
    }
   ],
   "source": [
    "regressor.estimator_.coef_ # for every person getting on the station 1.144 people get out"
   ]
  },
  {
   "cell_type": "code",
   "execution_count": 23,
   "metadata": {
    "collapsed": false
   },
   "outputs": [
    {
     "data": {
      "text/plain": [
       "14.455204168541854"
      ]
     },
     "execution_count": 23,
     "metadata": {},
     "output_type": "execute_result"
    }
   ],
   "source": [
    "regressor.estimator_.intercept_"
   ]
  },
  {
   "cell_type": "code",
   "execution_count": null,
   "metadata": {
    "collapsed": true
   },
   "outputs": [],
   "source": []
  }
 ],
 "metadata": {
  "kernelspec": {
   "display_name": "Python 2",
   "language": "python",
   "name": "python2"
  },
  "language_info": {
   "codemirror_mode": {
    "name": "ipython",
    "version": 2
   },
   "file_extension": ".py",
   "mimetype": "text/x-python",
   "name": "python",
   "nbconvert_exporter": "python",
   "pygments_lexer": "ipython2",
   "version": "2.7.11"
  }
 },
 "nbformat": 4,
 "nbformat_minor": 0
}
