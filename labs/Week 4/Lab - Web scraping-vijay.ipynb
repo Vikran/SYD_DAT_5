{
 "cells": [
  {
   "cell_type": "markdown",
   "metadata": {},
   "source": [
    "# Data Acquisition Lab\n",
    "\n",
    "This lab is divided into short sections, one for each section of theory."
   ]
  },
  {
   "cell_type": "markdown",
   "metadata": {},
   "source": [
    "## Accessing Unprotected Web pages"
   ]
  },
  {
   "cell_type": "code",
   "execution_count": 1,
   "metadata": {
    "collapsed": true
   },
   "outputs": [],
   "source": [
    "# import the Python requests library so that you can use it in your program\n",
    "import requests"
   ]
  },
  {
   "cell_type": "code",
   "execution_count": 2,
   "metadata": {
    "collapsed": true
   },
   "outputs": [],
   "source": [
    "# Go to the Australian Bureau of Meteorology website and work out which page corresponds to the\n",
    "# Sydney weather forecast. Store that in a variable here\n",
    "url = \"http://m.smh.com.au\""
   ]
  },
  {
   "cell_type": "code",
   "execution_count": 3,
   "metadata": {
    "collapsed": true
   },
   "outputs": [],
   "source": [
    "# Use the requests.get() method to fetch that page\n",
    "r= requests.get(url)"
   ]
  },
  {
   "cell_type": "code",
   "execution_count": 4,
   "metadata": {
    "collapsed": false
   },
   "outputs": [
    {
     "data": {
      "text/plain": [
       "200"
      ]
     },
     "execution_count": 4,
     "metadata": {},
     "output_type": "execute_result"
    }
   ],
   "source": [
    "# Did that succeed? What was the .status_code?\n",
    "r.status_code"
   ]
  },
  {
   "cell_type": "code",
   "execution_count": 5,
   "metadata": {
    "collapsed": false
   },
   "outputs": [
    {
     "data": {
      "text/plain": [
       "True"
      ]
     },
     "execution_count": 5,
     "metadata": {},
     "output_type": "execute_result"
    }
   ],
   "source": [
    "# What was the .text or .content of that page? Save it in a variable, because we will be using it\n",
    "# a little later\n",
    "'election' in r.text"
   ]
  },
  {
   "cell_type": "code",
   "execution_count": 11,
   "metadata": {
    "collapsed": false
   },
   "outputs": [],
   "source": [
    "'avocado' in r.text\n",
    "params ={'name_origin' :'Central Station', 'name_destintion': 'Wynyard Station', 'itdHour': 20, 'itdMinute': 0, 'itdDay': 'today'}\n",
    "answer = requests.get('http://transportnsw.info/en/index.page', data=params)\n",
    "answer.status_code\n",
    "answer.text\n",
    "open('transport-dump.html', 'wb').write(answer.content)"
   ]
  },
  {
   "cell_type": "markdown",
   "metadata": {},
   "source": [
    "## Accessing forms\n",
    "\n",
    "The pandas library already has a module for getting information from the Yahoo Finance pages, \n",
    "so you are unlikely to use the following code in any normal environment. But it's an example of\n",
    "a simple web API"
   ]
  },
  {
   "cell_type": "code",
   "execution_count": 45,
   "metadata": {
    "collapsed": false
   },
   "outputs": [
    {
     "data": {
      "text/plain": [
       "u'146.59'"
      ]
     },
     "execution_count": 45,
     "metadata": {},
     "output_type": "execute_result"
    }
   ],
   "source": [
    "# There is a stock price lookup form on https://au.finance.yahoo.com (it says Enter Symbol)\n",
    "# Inspect that element, and identify:\n",
    "# - The <INPUT> tag with the name \"s\"\n",
    "# - The <INPUT> tag with the name \"ql\" (which has a type of \"hidden\")\n",
    "# - The <FORM> tag surrounding them with the action of \"/q\" and the method of GET\n",
    "#\n",
    "# Create a dictionary with appropriate keys to provide values for the input tags.\n",
    "# Create a variable with the full URL to submit to\n",
    "url = \"https://au.finance.yahoo.com/q?s=ibm&ql=1\"\n",
    "#params = {'s': \"ibm\", 'ql':\"1\"}\n",
    "\n",
    "r = requests.get(url, data=params)\n",
    "r.text.index(\"time_rtq_ticker\")\n",
    "r.text[24559:24565]"
   ]
  },
  {
   "cell_type": "code",
   "execution_count": 36,
   "metadata": {
    "collapsed": true
   },
   "outputs": [],
   "source": [
    "# Use requests.get to retrieve that page"
   ]
  },
  {
   "cell_type": "markdown",
   "metadata": {},
   "source": [
    "## Secured pages\n",
    "\n",
    "The username for files under http://www.ifost.org.au/ga/protected is \"ga\" and the password is \"s3cr3t\"\n",
    "\n",
    "In this section we will fetch a file from a website that requires authentication."
   ]
  },
  {
   "cell_type": "code",
   "execution_count": 65,
   "metadata": {
    "collapsed": false
   },
   "outputs": [
    {
     "data": {
      "text/plain": [
       "401"
      ]
     },
     "execution_count": 65,
     "metadata": {},
     "output_type": "execute_result"
    }
   ],
   "source": [
    "# What happens if you use the requests library to fetch http://www.ifost.org.au/ga/protected/data.json \n",
    "# without supplying a password? What is the .status_code?\n",
    "url = \"http://kemek.ifost.org.au/ga/protected/data.json\"\n",
    "r = requests.get(url)\n",
    "r.status_code"
   ]
  },
  {
   "cell_type": "code",
   "execution_count": 75,
   "metadata": {
    "collapsed": false
   },
   "outputs": [
    {
     "data": {
      "text/plain": [
       "200"
      ]
     },
     "execution_count": 75,
     "metadata": {},
     "output_type": "execute_result"
    }
   ],
   "source": [
    "# Try again, but this time supplying a username and password\n",
    "params = {'username' :'ga' , 'password': 's3cr3t'}\n",
    "r = requests.get(url, auth=('ga', 's3cr3t'))\n",
    "r.status_code"
   ]
  },
  {
   "cell_type": "code",
   "execution_count": 76,
   "metadata": {
    "collapsed": false
   },
   "outputs": [
    {
     "data": {
      "text/plain": [
       "u'{\\n \"result\": \"success\",\\n \"message\": \"you have accessed data from a protected page\"\\n}\\n'"
      ]
     },
     "execution_count": 76,
     "metadata": {},
     "output_type": "execute_result"
    }
   ],
   "source": [
    "r.text"
   ]
  },
  {
   "cell_type": "markdown",
   "metadata": {},
   "source": [
    "## Parsing HTML\n",
    "\n",
    "In this section we will find the prediction for tomorrow's weather."
   ]
  },
  {
   "cell_type": "code",
   "execution_count": 89,
   "metadata": {
    "collapsed": false
   },
   "outputs": [],
   "source": [
    "# import BeautifulSoup library (version 4)\n",
    "from bs4 import BeautifulSoup\n",
    "import lxml\n",
    "url = \"http://www.smh.com.au\"\n",
    "r = requests.get(url)\n",
    "def xenophon_finder(x):\n",
    "    if x is None:\n",
    "        return False\n",
    "    if 'Xenophon' in x:\n",
    "        return True\n",
    "    return False"
   ]
  },
  {
   "cell_type": "code",
   "execution_count": 90,
   "metadata": {
    "collapsed": false
   },
   "outputs": [],
   "source": [
    "# Create a variable called \"soup\" with the result of parsing the Bureau of Meteorology prediction for\n",
    "# Sydney that you captured at the start of this notebook.\n",
    "soup = BeautifulSoup( r.content,'lxml')"
   ]
  },
  {
   "cell_type": "code",
   "execution_count": 97,
   "metadata": {
    "collapsed": false
   },
   "outputs": [
    {
     "data": {
      "text/plain": [
       "[<a class=\"logo\" href=\"http://smh.com.au\" title=\"The Sydney Morning Herald\">The Sydney Morning Herald</a>,\n",
       " <a class=\"sublogo\" href=\"http://www.smhindependentalways.com.au/\" target=\"_blank\" title=\"Independent. Always.\"></a>]"
      ]
     },
     "execution_count": 97,
     "metadata": {},
     "output_type": "execute_result"
    }
   ],
   "source": [
    "soup.find_all(string = xenophon_finder)\n",
    "x_things= soup.find_all('a', string=xenophon_finder)\n",
    "x_things\n",
    "first_article = x_things[0]\n",
    "first_article\n",
    "first_article.string\n",
    "soup('h1')\n",
    "soup('h1')[0].find_all('a')"
   ]
  },
  {
   "cell_type": "code",
   "execution_count": 98,
   "metadata": {
    "collapsed": false
   },
   "outputs": [
    {
     "data": {
      "text/plain": [
       "u'The Sydney Morning Herald'"
      ]
     },
     "execution_count": 98,
     "metadata": {},
     "output_type": "execute_result"
    }
   ],
   "source": [
    "soup('h1')[0].find_all('a')[0].string"
   ]
  },
  {
   "cell_type": "code",
   "execution_count": 99,
   "metadata": {
    "collapsed": false
   },
   "outputs": [
    {
     "data": {
      "text/plain": [
       "<h3>\\n<a href=\"http://www.smh.com.au/federal-politics/political-news/brexit-trump-xenophon-australias-populist-backlash-nowhere-near-britain-and-us-experts-say-20160627-gpt00o.html\" title=\"Is Xenophon Australia's answer to Trump?\">Is Xenophon Australia's answer to Trump?</a></h3>"
      ]
     },
     "execution_count": 99,
     "metadata": {},
     "output_type": "execute_result"
    }
   ],
   "source": [
    "first_article.parent"
   ]
  },
  {
   "cell_type": "code",
   "execution_count": 104,
   "metadata": {
    "collapsed": false
   },
   "outputs": [
    {
     "data": {
      "text/plain": [
       "[u'\\n',\n",
       " <h3>\\n<a href=\"http://www.smh.com.au/federal-politics/political-news/brexit-trump-xenophon-australias-populist-backlash-nowhere-near-britain-and-us-experts-say-20160627-gpt00o.html\" title=\"Is Xenophon Australia's answer to Trump?\">Is Xenophon Australia's answer to Trump?</a></h3>,\n",
       " u'\\n',\n",
       " <a href=\"http://www.smh.com.au/federal-politics/political-news/brexit-trump-xenophon-australias-populist-backlash-nowhere-near-britain-and-us-experts-say-20160627-gpt00o.html\" title=\"Is Xenophon Australia's answer to Trump?\">\\n<img alt=\"Republican presumtive candidate Donald Trump.\" height=\"66\" src=\"/content/dam/images/g/p/s/g/0/7/image.related.thumbnail.100x66.gpt00o.10rdjm.png/1467021360824.jpg\" width=\"100\"/></a>,\n",
       " u'\\n',\n",
       " <div class=\"wof\">\\n<span class=\"author\">\\n<a href=\"http://www.smh.com.au/federal-politics/by/David-Wroe\">David Wroe</a>\\n</span>\\n<p>Britain's got Brexit. The United States has Donald Trump and Australia has it's own modest populist backlash.</p>\\n<div class=\"article-meta\">\\n<em class=\"access\">Contains:</em>\\n<span class=\"icon video\" title=\"This article contains a video.\">This article contains a video.</span>\\n</div><!-- class:article-meta --></div>,\n",
       " u' class:wof ',\n",
       " u'\\n']"
      ]
     },
     "execution_count": 104,
     "metadata": {},
     "output_type": "execute_result"
    }
   ],
   "source": [
    "[child for child in first_article.parent.parent.children]"
   ]
  },
  {
   "cell_type": "code",
   "execution_count": null,
   "metadata": {
    "collapsed": true
   },
   "outputs": [],
   "source": []
  },
  {
   "cell_type": "code",
   "execution_count": null,
   "metadata": {
    "collapsed": true
   },
   "outputs": [],
   "source": [
    "def has_the_word_tuesday(x):\n",
    "    return 'Tuesday' in x\n",
    "\n",
    "# Find the first element in \"soup\" which has the word Tuesday in it\n",
    "# You might find the function \"has_the_word_tuesday\" helpful"
   ]
  },
  {
   "cell_type": "code",
   "execution_count": null,
   "metadata": {
    "collapsed": true
   },
   "outputs": [],
   "source": [
    "# The weather prediction is obviously going to be in a <DIV> that includes it\n",
    "# Display the parent of the element you found in the previous cell. You might\n",
    "# find the .prettify() method makes it easier to display"
   ]
  },
  {
   "cell_type": "code",
   "execution_count": null,
   "metadata": {
    "collapsed": true
   },
   "outputs": [],
   "source": [
    "# Can you find a <DD> element with a CSS class \"summary\"? (Use the parameter class_ in BeautifulSoup)"
   ]
  },
  {
   "cell_type": "code",
   "execution_count": null,
   "metadata": {
    "collapsed": true
   },
   "outputs": [],
   "source": [
    "# Display the \"string\" attribute of this summary element. Do you need to bring an umbrella?"
   ]
  },
  {
   "cell_type": "markdown",
   "metadata": {},
   "source": [
    "## JSON APIs\n",
    "\n",
    "Many websites display their information in JSON format. In this section we will interact\n",
    "with the Pokemon database http://pokeapi.co/"
   ]
  },
  {
   "cell_type": "code",
   "execution_count": 112,
   "metadata": {
    "collapsed": false
   },
   "outputs": [
    {
     "data": {
      "text/plain": [
       "15"
      ]
     },
     "execution_count": 112,
     "metadata": {},
     "output_type": "execute_result"
    }
   ],
   "source": [
    "# Look up their documentation. What is the base URL for querying a Pokemon? What URL\n",
    "# would you use to look up the Pokemon called \"Groudon\"? Store it in a variable\n",
    "p = requests.get('http://pokeapi.co/api/v2/move/double-slap')\n",
    "p.status_code\n",
    "double_slap = p.json()\n",
    "double_slap.keys()\n",
    "double_slap['power']"
   ]
  },
  {
   "cell_type": "code",
   "execution_count": null,
   "metadata": {
    "collapsed": true
   },
   "outputs": [],
   "source": [
    "# Use the requests library to fetch the Groudon data"
   ]
  },
  {
   "cell_type": "code",
   "execution_count": null,
   "metadata": {
    "collapsed": true
   },
   "outputs": [],
   "source": [
    "# Check the status code to make sure that it worked"
   ]
  },
  {
   "cell_type": "code",
   "execution_count": null,
   "metadata": {
    "collapsed": true
   },
   "outputs": [],
   "source": [
    "# Is the content of the response in JSON format? Use the requests library function\n",
    "# to decode it from JSON format into a Python dictionary"
   ]
  },
  {
   "cell_type": "code",
   "execution_count": null,
   "metadata": {
    "collapsed": true
   },
   "outputs": [],
   "source": [
    "# What are the keys of this python dictionary?"
   ]
  },
  {
   "cell_type": "code",
   "execution_count": null,
   "metadata": {
    "collapsed": true
   },
   "outputs": [],
   "source": [
    "# Is \"weight\" listed there? If so, then the value in it should be a number\n",
    "# If you play Pokemon, does this number look reasonable?"
   ]
  }
 ],
 "metadata": {
  "kernelspec": {
   "display_name": "Python 2",
   "language": "python",
   "name": "python2"
  },
  "language_info": {
   "codemirror_mode": {
    "name": "ipython",
    "version": 2
   },
   "file_extension": ".py",
   "mimetype": "text/x-python",
   "name": "python",
   "nbconvert_exporter": "python",
   "pygments_lexer": "ipython2",
   "version": "2.7.11"
  }
 },
 "nbformat": 4,
 "nbformat_minor": 0
}
